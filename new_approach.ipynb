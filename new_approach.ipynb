{
 "cells": [
  {
   "cell_type": "code",
   "execution_count": 17,
   "metadata": {},
   "outputs": [],
   "source": [
    "import pandas as pd\n",
    "\n",
    "def make_nice_dataframe(csv_path, players_path, delete_missing=False):\n",
    "    contest_df = pd.read_csv(csv_path)\n",
    "    contest_df = contest_df[[\"Position\", \"Name\", \"Salary\", \"TeamAbbrev\"]]\n",
    "    players_df = pd.read_csv(players_path)\n",
    "\n",
    "    # Add id column\n",
    "    merged_df = pd.merge(contest_df, players_df, how='left', left_on='Name', right_on='full_name')\n",
    "\n",
    "    # Print out rows with no match\n",
    "    no_match_df = merged_df[merged_df['full_name'].isnull()]\n",
    "    if not no_match_df.empty:\n",
    "        print(\"Rows with no match:\")\n",
    "        print(no_match_df[[\"Name\", \"Salary\"]])\n",
    "    # Delete the no matches if set to do so\n",
    "    if delete_missing:\n",
    "        print(\"Deleting missing...\")\n",
    "        merged_df = merged_df.dropna(subset=['full_name'])\n",
    "\n",
    "    merged_df[\"PG\"] = False\n",
    "    merged_df[\"SG\"] = False\n",
    "    merged_df[\"SF\"] = False\n",
    "    merged_df[\"PF\"] = False\n",
    "    merged_df[\"C\"] = False\n",
    "    merged_df[\"G\"] = False\n",
    "    merged_df[\"F\"] = False\n",
    "    merged_df[\"UTIL\"] = True\n",
    "\n",
    "    for idx, row in merged_df.iterrows():\n",
    "        if \"PG\" in row[\"Position\"]:\n",
    "            merged_df.at[idx, \"PG\"] = True\n",
    "        else:\n",
    "            merged_df.at[idx, \"PG\"] = False\n",
    "    \n",
    "        if \"SG\" in row[\"Position\"]:\n",
    "            merged_df.at[idx, \"SG\"] = True\n",
    "        else:\n",
    "            merged_df.at[idx, \"SG\"] = False\n",
    "\n",
    "        if \"SF\" in row[\"Position\"]:\n",
    "            merged_df.at[idx, \"SF\"] = True\n",
    "        else:\n",
    "            merged_df.at[idx, \"SF\"] = False\n",
    "\n",
    "        if \"PF\" in row[\"Position\"]:\n",
    "            merged_df.at[idx, \"PF\"] = True\n",
    "        else:\n",
    "            merged_df.at[idx, \"PF\"] = False\n",
    "\n",
    "        if \"C\" in row[\"Position\"]:\n",
    "            merged_df.at[idx, \"C\"] = True\n",
    "        else:\n",
    "            merged_df.at[idx, \"C\"] = False\n",
    "\n",
    "        if \"G\" in row[\"Position\"]:\n",
    "            merged_df.at[idx, \"G\"] = True\n",
    "        else:\n",
    "            merged_df.at[idx, \"G\"] = False\n",
    "\n",
    "        if \"F\" in row[\"Position\"]:\n",
    "            merged_df.at[idx, \"F\"] = True\n",
    "        else:\n",
    "            merged_df.at[idx, \"F\"] = False\n",
    "\n",
    "    return merged_df"
   ]
  },
  {
   "cell_type": "code",
   "execution_count": 21,
   "metadata": {},
   "outputs": [
    {
     "name": "stdout",
     "output_type": "stream",
     "text": [
      "Rows with no match:\n",
      "                      Name  Salary\n",
      "155  Juan Toscano-Anderson    3000\n",
      "168       Brandon Williams    3000\n",
      "186     Shaquille Harrison    3000\n",
      "198             Vit Krejci    3000\n",
      "204          Jontay Porter    3000\n",
      "Deleting missing...\n"
     ]
    }
   ],
   "source": [
    "contest_csv = './games/157197163/DKSalaries.csv'\n",
    "players_csv = './data/players.csv'\n",
    "delete_missing = True\n",
    "\n",
    "nice_df = make_nice_dataframe(contest_csv, players_csv, delete_missing=delete_missing)"
   ]
  },
  {
   "cell_type": "code",
   "execution_count": 23,
   "metadata": {},
   "outputs": [
    {
     "name": "stdout",
     "output_type": "stream",
     "text": [
      "First key: 2544\n",
      "First 10 values of key: [39, 57, 43, 49, 61, 51, 65, 53, 62, 52]\n"
     ]
    }
   ],
   "source": [
    "import json\n",
    "\n",
    "bayes_simulations = './models/simpledfs.json'\n",
    "\n",
    "with open(bayes_simulations, 'r') as f:\n",
    "    bayes_data = json.load(f)\n",
    "\n",
    "first_key = next(iter(bayes_data))\n",
    "first_value = bayes_data[first_key]\n",
    "\n",
    "print(\"First key:\", first_key)\n",
    "print(\"First 10 values of key:\", first_value[:10])"
   ]
  },
  {
   "cell_type": "code",
   "execution_count": 40,
   "metadata": {},
   "outputs": [],
   "source": [
    "import numpy as np\n",
    "\n",
    "class TopPlayers:\n",
    "    def __init__(self) -> None:\n",
    "        self.pgs = []\n",
    "        self.sgs = []\n",
    "        self.sfs = []\n",
    "        self.pfs = []\n",
    "        self.cs = []\n",
    "        self.gs = []\n",
    "        self.fs = []\n",
    "        self.utils = []\n",
    "\n",
    "def add_top_position(means_dict, nice_df, position_name, top_num):\n",
    "\n",
    "    position_players = nice_df[nice_df[position_name] == True]\n",
    "    player_pairs = {}\n",
    "    position_ids = list(position_players[\"player_id\"])\n",
    "\n",
    "    # If the mean key is in the position ids, add it to player_pairs\n",
    "    for mean_key, mean_value in means_dict.items():\n",
    "        if int(mean_key) in position_ids:\n",
    "            player_pairs[mean_key] = mean_value\n",
    "\n",
    "    # Get the top players in that position\n",
    "    sorted_items = sorted(player_pairs.items(), key=lambda x: x[1], reverse=True)[:top_num]\n",
    "    top_N_dict = dict(sorted_items)\n",
    "\n",
    "    return top_N_dict.keys()\n",
    "\n",
    "def get_top_of_positions(simulations_dict, nice_df, top_num):\n",
    "    out = TopPlayers()\n",
    "\n",
    "    means_dict = {}\n",
    "    for id, sim_nums in simulations_dict.items():\n",
    "        means_dict[id] = np.mean(sim_nums)\n",
    "    \n",
    "    out.pgs = add_top_position(means_dict=means_dict, nice_df=nice_df, position_name=\"PG\", top_num=top_num)\n",
    "    out.sgs = add_top_position(means_dict=means_dict, nice_df=nice_df, position_name=\"SG\", top_num=top_num)\n",
    "    out.sfs = add_top_position(means_dict=means_dict, nice_df=nice_df, position_name=\"SF\", top_num=top_num)\n",
    "    out.pfs = add_top_position(means_dict=means_dict, nice_df=nice_df, position_name=\"PF\", top_num=top_num)\n",
    "    out.cs = add_top_position(means_dict=means_dict, nice_df=nice_df, position_name=\"C\", top_num=top_num)\n",
    "    out.gs = add_top_position(means_dict=means_dict, nice_df=nice_df, position_name=\"G\", top_num=top_num)\n",
    "    out.fs = add_top_position(means_dict=means_dict, nice_df=nice_df, position_name=\"F\", top_num=top_num)\n",
    "    out.utils = add_top_position(means_dict=means_dict, nice_df=nice_df, position_name=\"UTIL\", top_num=top_num)\n",
    "    return out\n",
    "\n",
    "players = get_top_of_positions(bayes_data, nice_df, 5)"
   ]
  },
  {
   "cell_type": "code",
   "execution_count": 44,
   "metadata": {},
   "outputs": [
    {
     "name": "stdout",
     "output_type": "stream",
     "text": [
      "1629029 54.3831\n",
      "203999 48.05445\n",
      "201142 46.40685\n",
      "1629027 46.28435\n",
      "1626157 45.7787\n"
     ]
    }
   ],
   "source": [
    "for id in players.utils:\n",
    "    print(id, np.mean(bayes_data[id]))"
   ]
  },
  {
   "cell_type": "code",
   "execution_count": 45,
   "metadata": {},
   "outputs": [
    {
     "name": "stdout",
     "output_type": "stream",
     "text": [
      "3\n",
      "4\n",
      "5\n",
      "6\n",
      "7\n",
      "8\n"
     ]
    }
   ],
   "source": [
    "class BatchLineupsIterator:\n",
    "    def __init__(self, players: TopPlayers, batch_size: int):\n",
    "        # TODO: Make this VALID\n",
    "        self.starting_lineup = [players.pfs[0], players.sgs[0], players.sfs[0]]\n",
    "\n",
    "    def __iter__(self):\n",
    "        return self # leave this alone\n",
    "\n",
    "    def __next__(self):\n",
    "        # TODO: make a func that returns the next batch\n",
    "        self.current += 1\n",
    "        if self.current < self.high:\n",
    "            return self.current\n",
    "        raise StopIteration\n",
    "    \n",
    "    def getNextValidLineup(self):\n",
    "        pass\n",
    "    \n",
    "batches = BatchLineupsIterator(3,9)"
   ]
  }
 ],
 "metadata": {
  "kernelspec": {
   "display_name": ".venv",
   "language": "python",
   "name": "python3"
  },
  "language_info": {
   "codemirror_mode": {
    "name": "ipython",
    "version": 3
   },
   "file_extension": ".py",
   "mimetype": "text/x-python",
   "name": "python",
   "nbconvert_exporter": "python",
   "pygments_lexer": "ipython3",
   "version": "3.10.5"
  }
 },
 "nbformat": 4,
 "nbformat_minor": 2
}
