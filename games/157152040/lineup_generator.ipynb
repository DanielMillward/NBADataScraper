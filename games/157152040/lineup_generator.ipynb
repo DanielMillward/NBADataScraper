{
 "cells": [
  {
   "cell_type": "code",
   "execution_count": 48,
   "metadata": {},
   "outputs": [],
   "source": [
    "import pandas as pd\n",
    "import os\n",
    "\n",
    "\n",
    "df = pd.read_csv(\"DKSalaries.csv\")\n",
    "df = df[[\"Roster Position\", \"Name + ID\", \"Salary\", \"TeamAbbrev\"]]\n",
    "\n",
    "\n",
    "current_directory = os.getcwd()\n",
    "\n",
    "# Construct the path to the file in the higher directory\n",
    "higher_directory = os.path.abspath(\n",
    "    os.path.join(current_directory, os.pardir, os.pardir)\n",
    ")\n",
    "file_in_higher_directory_path = os.path.join(higher_directory, \"players.csv\")\n",
    "players = pd.read_csv(file_in_higher_directory_path)"
   ]
  },
  {
   "cell_type": "code",
   "execution_count": 49,
   "metadata": {},
   "outputs": [
    {
     "data": {
      "text/html": [
       "<div>\n",
       "<style scoped>\n",
       "    .dataframe tbody tr th:only-of-type {\n",
       "        vertical-align: middle;\n",
       "    }\n",
       "\n",
       "    .dataframe tbody tr th {\n",
       "        vertical-align: top;\n",
       "    }\n",
       "\n",
       "    .dataframe thead th {\n",
       "        text-align: right;\n",
       "    }\n",
       "</style>\n",
       "<table border=\"1\" class=\"dataframe\">\n",
       "  <thead>\n",
       "    <tr style=\"text-align: right;\">\n",
       "      <th></th>\n",
       "      <th>player_id</th>\n",
       "      <th>full_name</th>\n",
       "      <th>position</th>\n",
       "    </tr>\n",
       "  </thead>\n",
       "  <tbody>\n",
       "    <tr>\n",
       "      <th>0</th>\n",
       "      <td>1630173</td>\n",
       "      <td>Precious Achiuwa</td>\n",
       "      <td>Forward</td>\n",
       "    </tr>\n",
       "    <tr>\n",
       "      <th>1</th>\n",
       "      <td>203500</td>\n",
       "      <td>Steven Adams</td>\n",
       "      <td>Center</td>\n",
       "    </tr>\n",
       "    <tr>\n",
       "      <th>2</th>\n",
       "      <td>1628389</td>\n",
       "      <td>Bam Adebayo</td>\n",
       "      <td>Center-Forward</td>\n",
       "    </tr>\n",
       "    <tr>\n",
       "      <th>3</th>\n",
       "      <td>1630534</td>\n",
       "      <td>Ochai Agbaji</td>\n",
       "      <td>Guard</td>\n",
       "    </tr>\n",
       "    <tr>\n",
       "      <th>4</th>\n",
       "      <td>1630583</td>\n",
       "      <td>Santi Aldama</td>\n",
       "      <td>Forward-Center</td>\n",
       "    </tr>\n",
       "  </tbody>\n",
       "</table>\n",
       "</div>"
      ],
      "text/plain": [
       "   player_id         full_name        position\n",
       "0    1630173  Precious Achiuwa         Forward\n",
       "1     203500      Steven Adams          Center\n",
       "2    1628389       Bam Adebayo  Center-Forward\n",
       "3    1630534      Ochai Agbaji           Guard\n",
       "4    1630583      Santi Aldama  Forward-Center"
      ]
     },
     "execution_count": 49,
     "metadata": {},
     "output_type": "execute_result"
    }
   ],
   "source": [
    "players.head(5)"
   ]
  },
  {
   "cell_type": "code",
   "execution_count": 50,
   "metadata": {},
   "outputs": [
    {
     "data": {
      "text/html": [
       "<div>\n",
       "<style scoped>\n",
       "    .dataframe tbody tr th:only-of-type {\n",
       "        vertical-align: middle;\n",
       "    }\n",
       "\n",
       "    .dataframe tbody tr th {\n",
       "        vertical-align: top;\n",
       "    }\n",
       "\n",
       "    .dataframe thead th {\n",
       "        text-align: right;\n",
       "    }\n",
       "</style>\n",
       "<table border=\"1\" class=\"dataframe\">\n",
       "  <thead>\n",
       "    <tr style=\"text-align: right;\">\n",
       "      <th></th>\n",
       "      <th>Roster Position</th>\n",
       "      <th>Name + ID</th>\n",
       "      <th>Salary</th>\n",
       "      <th>TeamAbbrev</th>\n",
       "      <th>player_id</th>\n",
       "    </tr>\n",
       "  </thead>\n",
       "  <tbody>\n",
       "    <tr>\n",
       "      <th>0</th>\n",
       "      <td>PF/C/F/UTIL</td>\n",
       "      <td>Giannis Antetokounmpo (32200475)</td>\n",
       "      <td>11700</td>\n",
       "      <td>MIL</td>\n",
       "      <td>203507</td>\n",
       "    </tr>\n",
       "    <tr>\n",
       "      <th>1</th>\n",
       "      <td>C/UTIL</td>\n",
       "      <td>Joel Embiid (32200486)</td>\n",
       "      <td>11500</td>\n",
       "      <td>PHI</td>\n",
       "      <td>203954</td>\n",
       "    </tr>\n",
       "    <tr>\n",
       "      <th>2</th>\n",
       "      <td>PG/G/UTIL</td>\n",
       "      <td>Damian Lillard (32200421)</td>\n",
       "      <td>8800</td>\n",
       "      <td>MIL</td>\n",
       "      <td>203081</td>\n",
       "    </tr>\n",
       "    <tr>\n",
       "      <th>3</th>\n",
       "      <td>C/UTIL</td>\n",
       "      <td>Alperen Sengun (32200611)</td>\n",
       "      <td>8600</td>\n",
       "      <td>HOU</td>\n",
       "      <td>1630578</td>\n",
       "    </tr>\n",
       "    <tr>\n",
       "      <th>4</th>\n",
       "      <td>PG/G/UTIL</td>\n",
       "      <td>Tyrese Maxey (32200576)</td>\n",
       "      <td>8300</td>\n",
       "      <td>PHI</td>\n",
       "      <td>1630178</td>\n",
       "    </tr>\n",
       "  </tbody>\n",
       "</table>\n",
       "</div>"
      ],
      "text/plain": [
       "  Roster Position                         Name + ID  Salary TeamAbbrev  \\\n",
       "0     PF/C/F/UTIL  Giannis Antetokounmpo (32200475)   11700        MIL   \n",
       "1          C/UTIL            Joel Embiid (32200486)   11500        PHI   \n",
       "2       PG/G/UTIL         Damian Lillard (32200421)    8800        MIL   \n",
       "3          C/UTIL         Alperen Sengun (32200611)    8600        HOU   \n",
       "4       PG/G/UTIL           Tyrese Maxey (32200576)    8300        PHI   \n",
       "\n",
       "   player_id  \n",
       "0     203507  \n",
       "1     203954  \n",
       "2     203081  \n",
       "3    1630578  \n",
       "4    1630178  "
      ]
     },
     "execution_count": 50,
     "metadata": {},
     "output_type": "execute_result"
    }
   ],
   "source": [
    "def appFunc_getID(nameAndID):\n",
    "    draftking_full_name = nameAndID.split(\"(\")[0].strip().lower()\n",
    "    filtered_df = players[players[\"full_name\"].str.lower() == draftking_full_name]\n",
    "\n",
    "    if filtered_df.empty:\n",
    "        print(\"No row found for\", draftking_full_name)\n",
    "        return None\n",
    "\n",
    "    return int(filtered_df.iloc[0][\"player_id\"])\n",
    "\n",
    "\n",
    "df[\"player_id\"] = df[\"Name + ID\"].apply(appFunc_getID)\n",
    "df.head(5)"
   ]
  },
  {
   "cell_type": "code",
   "execution_count": 52,
   "metadata": {},
   "outputs": [],
   "source": [
    "salary_dict = {}\n",
    "team_dict = {}\n",
    "\n",
    "for _, row in df.iterrows():\n",
    "    salary_dict[row[\"player_id\"]] = row[\"Salary\"]\n",
    "    team_dict[row[\"player_id\"]] = row[\"TeamAbbrev\"]"
   ]
  },
  {
   "cell_type": "code",
   "execution_count": null,
   "metadata": {},
   "outputs": [],
   "source": [
    "# 1. Make dict of roster positions with players as array\n",
    "# 2. Generate N random valid lineups\n",
    "# 3. Simulate, get overall rankings. Keep top 5-10% just as they are (elitism). Use top 25% as sure parents, with rest having 33%?\n",
    "# 4. Inherit by:\n",
    "# for each survivor, find M other random survivors. Make X children by randomly deciding traits from parents\n",
    "# 5. Mutate children by:\n",
    "# for each child, randomly swap out T players, with T changing over time?\n",
    "# 6. Add Q purely random lineups\n",
    "# 6. Save best, repeat 2-6 until satisfied"
   ]
  },
  {
   "cell_type": "markdown",
   "metadata": {},
   "source": [
    "### 1. Make dict of roster positions with players as array"
   ]
  },
  {
   "cell_type": "code",
   "execution_count": 46,
   "metadata": {},
   "outputs": [
    {
     "data": {
      "text/plain": [
       "72"
      ]
     },
     "execution_count": 46,
     "metadata": {},
     "output_type": "execute_result"
    }
   ],
   "source": [
    "player_dict = {}\n",
    "player_dict[\"PG\"] = []\n",
    "player_dict[\"SG\"] = []\n",
    "player_dict[\"SF\"] = []\n",
    "player_dict[\"PF\"] = []\n",
    "player_dict[\"C\"] = []\n",
    "player_dict[\"G\"] = []\n",
    "player_dict[\"F\"] = []\n",
    "player_dict[\"UTIL\"] = []\n",
    "\n",
    "for _, row in df.iterrows():\n",
    "    if \"PG\" in row[\"Roster Position\"]:\n",
    "        player_dict[\"PG\"].append(row[\"player_id\"])\n",
    "    if \"SG\" in row[\"Roster Position\"]:\n",
    "        player_dict[\"SG\"].append(row[\"player_id\"])\n",
    "    if \"SF\" in row[\"Roster Position\"]:\n",
    "        player_dict[\"SF\"].append(row[\"player_id\"])\n",
    "    if \"PF\" in row[\"Roster Position\"]:\n",
    "        player_dict[\"PF\"].append(row[\"player_id\"])\n",
    "    if \"C\" in row[\"Roster Position\"]:\n",
    "        player_dict[\"C\"].append(row[\"player_id\"])\n",
    "    if \"G\" in row[\"Roster Position\"]:\n",
    "        player_dict[\"G\"].append(row[\"player_id\"])\n",
    "    if \"F\" in row[\"Roster Position\"]:\n",
    "        player_dict[\"F\"].append(row[\"player_id\"])\n",
    "    if \"UTIL\" in row[\"Roster Position\"]:\n",
    "        player_dict[\"UTIL\"].append(row[\"player_id\"])\n",
    "\n",
    "len(player_dict[\"UTIL\"])"
   ]
  },
  {
   "cell_type": "code",
   "execution_count": 78,
   "metadata": {},
   "outputs": [],
   "source": [
    "from operator import itemgetter\n",
    "\n",
    "\n",
    "def lineup_is_valid(lineup_array):\n",
    "    \"\"\"Assumes that the array of id's has one per correct slot.\"\"\"\n",
    "    if len(lineup_array) != 8:  # check is right length\n",
    "        return False\n",
    "    if len(set(lineup_array)) != len(lineup_array):  # check for dupes\n",
    "        return False\n",
    "    salaries = itemgetter(*lineup_array)(salary_dict)\n",
    "    if sum(salaries) > 50000:  # check in budget\n",
    "        return False\n",
    "    teams = itemgetter(*lineup_array)(team_dict)\n",
    "    if len(set(teams)) < 2:  # Check if has both teams\n",
    "        return False\n",
    "    return True"
   ]
  },
  {
   "cell_type": "markdown",
   "metadata": {},
   "source": [
    "### 2. Generate N random valid lineups"
   ]
  },
  {
   "cell_type": "code",
   "execution_count": 82,
   "metadata": {},
   "outputs": [
    {
     "name": "stdout",
     "output_type": "stream",
     "text": [
      "1\n"
     ]
    },
    {
     "data": {
      "text/plain": [
       "[[203081, 1627788, 1641715, 202699, 203954, 1641708, 1626162, 1630699]]"
      ]
     },
     "execution_count": 82,
     "metadata": {},
     "output_type": "execute_result"
    }
   ],
   "source": [
    "import math\n",
    "import random\n",
    "\n",
    "\n",
    "def generate_n_pure_random_lineups(gen):\n",
    "    lineups = []\n",
    "    max_length = math.floor((1 / gen) * 100)\n",
    "    print(max_length)\n",
    "    while len(lineups) < max_length:\n",
    "        pg = random.choice(player_dict[\"PG\"])\n",
    "        sg = random.choice(player_dict[\"SG\"])\n",
    "        sf = random.choice(player_dict[\"SF\"])\n",
    "        pf = random.choice(player_dict[\"PF\"])\n",
    "        c = random.choice(player_dict[\"C\"])\n",
    "        g = random.choice(player_dict[\"G\"])\n",
    "        f = random.choice(player_dict[\"F\"])\n",
    "        util = random.choice(player_dict[\"UTIL\"])\n",
    "        new_lineup = [pg, sg, sf, pf, c,g,f,util]\n",
    "        if lineup_is_valid(new_lineup):\n",
    "            lineups.append(new_lineup)\n",
    "    return lineups\n",
    "\n",
    "generate_n_pure_random_lineups(69)"
   ]
  },
  {
   "cell_type": "markdown",
   "metadata": {},
   "source": [
    "### 3. Simulate Trials and get Parents/Elites"
   ]
  },
  {
   "cell_type": "code",
   "execution_count": null,
   "metadata": {},
   "outputs": [],
   "source": [
    "def get_rankings(lineup_array, num_trials):\n",
    "    # 0. Make an array of length lineup_array to store scores, and a separate to store rankings\n",
    "    # 1. Pick a random draw num (1-2000) FOR EACH PLAYER\n",
    "    # 2. Make a dict of player:score for that trial\n",
    "    # 3. For each lineup, for each player in that lineup add that score to the index in the array\n",
    "    # 4. Add rankings to rank array\n",
    "    # 5. Return rankings array\n",
    "    pass\n",
    "\n",
    "\n",
    "def get_parents(lineup_array, sure_parent_percent, possible_parent_percent):\n",
    "    # Get sure parent percentile of rankings\n",
    "    # get indices of all rankings below (?) that percentile, add to array\n",
    "    # for indices not in that list, if random num > possible_parent_percent, add to array\n",
    "    # return array\n",
    "    pass\n",
    "\n",
    "\n",
    "def get_elites(lineup_array, elite_percent):\n",
    "    # Get sure elite percentile of rankings\n",
    "    # get indices of all rankings below (?) that percentile, add indices to array\n",
    "    # return array\n",
    "    pass"
   ]
  },
  {
   "cell_type": "markdown",
   "metadata": {},
   "source": [
    "### 4. Inherit"
   ]
  },
  {
   "cell_type": "code",
   "execution_count": null,
   "metadata": {},
   "outputs": [],
   "source": [
    "def make_children(survivor_lineups, num_children):\n",
    "    # while len(children) < num_children\n",
    "    # pick two random survivors\n",
    "    # for each position, randomly pick between the two parents\n",
    "    # if not a valid thing, continue\n",
    "    pass"
   ]
  },
  {
   "cell_type": "markdown",
   "metadata": {},
   "source": [
    "### 5. Mutate"
   ]
  },
  {
   "cell_type": "code",
   "execution_count": null,
   "metadata": {},
   "outputs": [],
   "source": [
    "def mutate_children(children_lineups, num_mutations, percent_mutated):\n",
    "    # sample percent_mutated children\n",
    "    # for each, add num_mutations. If not valid, try another set of mutations until it does.\n",
    "    # return mutated children\n",
    "    pass"
   ]
  },
  {
   "cell_type": "markdown",
   "metadata": {},
   "source": [
    "## Evolution"
   ]
  },
  {
   "cell_type": "code",
   "execution_count": null,
   "metadata": {},
   "outputs": [],
   "source": [
    "best_lineups = {}\n",
    "\n",
    "\n",
    "def run_ga(num_gens, num_trials, sure_parent_percent, possible_parent_percent,elite_percent, num_mutations, percent_mutated):\n",
    "    # enpty population\n",
    "    # for num_gens\n",
    "    # if first gen, make all random lineup and add to empty pop.\n",
    "    # run get rankings on pop\n",
    "    # save best 2? in best_lineups[gen_num] = [[...],[...]]\n",
    "    # print best ranking\n",
    "    # run get elites\n",
    "    # run make children\n",
    "    # run mutate children\n",
    "    # add set number of elites, then children, then remainder is pure random\n",
    "    # return best lineup\n",
    "    pass\n",
    "\n"
   ]
  }
 ],
 "metadata": {
  "kernelspec": {
   "display_name": ".venv",
   "language": "python",
   "name": "python3"
  },
  "language_info": {
   "codemirror_mode": {
    "name": "ipython",
    "version": 3
   },
   "file_extension": ".py",
   "mimetype": "text/x-python",
   "name": "python",
   "nbconvert_exporter": "python",
   "pygments_lexer": "ipython3",
   "version": "3.10.5"
  }
 },
 "nbformat": 4,
 "nbformat_minor": 2
}
